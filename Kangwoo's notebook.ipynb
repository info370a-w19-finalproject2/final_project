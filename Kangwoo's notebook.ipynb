{
 "cells": [
  {
   "cell_type": "code",
   "execution_count": 12,
   "metadata": {},
   "outputs": [],
   "source": [
    "# Setting up\n",
    "import numpy as np\n",
    "import pandas as pd\n",
    "import matplotlib.pyplot as plt\n",
    "import itertools\n",
    "\n",
    "# ignore warning \n",
    "import warnings\n",
    "warnings.filterwarnings(\"ignore\")"
   ]
  },
  {
   "cell_type": "code",
   "execution_count": 13,
   "metadata": {
    "scrolled": true
   },
   "outputs": [],
   "source": [
    "# get data frames previous 4 seasons and current season.\n",
    "df_1415 = pd.read_csv('./data/1415.csv')\n",
    "df_1516 =  pd.read_csv('./data/1516.csv')\n",
    "df_1617 = pd.read_csv('./data/1617.csv')\n",
    "df_1718 = pd.read_csv('./data/1718.csv')\n",
    "df_1819 = pd.read_csv('./data/1819.csv')\n",
    "df_total = df_1415.append(df_1516).append(df_1617).append(df_1718).append(df_1819)"
   ]
  },
  {
   "cell_type": "code",
   "execution_count": 14,
   "metadata": {
    "scrolled": true
   },
   "outputs": [
    {
     "data": {
      "text/html": [
       "<div>\n",
       "<style scoped>\n",
       "    .dataframe tbody tr th:only-of-type {\n",
       "        vertical-align: middle;\n",
       "    }\n",
       "\n",
       "    .dataframe tbody tr th {\n",
       "        vertical-align: top;\n",
       "    }\n",
       "\n",
       "    .dataframe thead th {\n",
       "        text-align: right;\n",
       "    }\n",
       "</style>\n",
       "<table border=\"1\" class=\"dataframe\">\n",
       "  <thead>\n",
       "    <tr style=\"text-align: right;\">\n",
       "      <th></th>\n",
       "      <th>HomeTeam</th>\n",
       "      <th>AwayTeam</th>\n",
       "      <th>FTHG</th>\n",
       "      <th>FTAG</th>\n",
       "      <th>FTR</th>\n",
       "      <th>HS</th>\n",
       "      <th>AS</th>\n",
       "      <th>HST</th>\n",
       "      <th>AST</th>\n",
       "      <th>HY</th>\n",
       "      <th>AY</th>\n",
       "      <th>HR</th>\n",
       "      <th>AR</th>\n",
       "    </tr>\n",
       "  </thead>\n",
       "  <tbody>\n",
       "    <tr>\n",
       "      <th>0</th>\n",
       "      <td>Arsenal</td>\n",
       "      <td>Crystal Palace</td>\n",
       "      <td>2.0</td>\n",
       "      <td>1.0</td>\n",
       "      <td>H</td>\n",
       "      <td>14.0</td>\n",
       "      <td>4.0</td>\n",
       "      <td>6.0</td>\n",
       "      <td>2.0</td>\n",
       "      <td>2.0</td>\n",
       "      <td>2.0</td>\n",
       "      <td>0.0</td>\n",
       "      <td>1.0</td>\n",
       "    </tr>\n",
       "    <tr>\n",
       "      <th>1</th>\n",
       "      <td>Leicester</td>\n",
       "      <td>Everton</td>\n",
       "      <td>2.0</td>\n",
       "      <td>2.0</td>\n",
       "      <td>D</td>\n",
       "      <td>11.0</td>\n",
       "      <td>13.0</td>\n",
       "      <td>3.0</td>\n",
       "      <td>3.0</td>\n",
       "      <td>1.0</td>\n",
       "      <td>1.0</td>\n",
       "      <td>0.0</td>\n",
       "      <td>0.0</td>\n",
       "    </tr>\n",
       "    <tr>\n",
       "      <th>2</th>\n",
       "      <td>Man United</td>\n",
       "      <td>Swansea</td>\n",
       "      <td>1.0</td>\n",
       "      <td>2.0</td>\n",
       "      <td>A</td>\n",
       "      <td>14.0</td>\n",
       "      <td>5.0</td>\n",
       "      <td>5.0</td>\n",
       "      <td>4.0</td>\n",
       "      <td>2.0</td>\n",
       "      <td>4.0</td>\n",
       "      <td>0.0</td>\n",
       "      <td>0.0</td>\n",
       "    </tr>\n",
       "    <tr>\n",
       "      <th>3</th>\n",
       "      <td>QPR</td>\n",
       "      <td>Hull</td>\n",
       "      <td>0.0</td>\n",
       "      <td>1.0</td>\n",
       "      <td>A</td>\n",
       "      <td>19.0</td>\n",
       "      <td>11.0</td>\n",
       "      <td>6.0</td>\n",
       "      <td>4.0</td>\n",
       "      <td>1.0</td>\n",
       "      <td>2.0</td>\n",
       "      <td>0.0</td>\n",
       "      <td>0.0</td>\n",
       "    </tr>\n",
       "    <tr>\n",
       "      <th>4</th>\n",
       "      <td>Stoke</td>\n",
       "      <td>Aston Villa</td>\n",
       "      <td>0.0</td>\n",
       "      <td>1.0</td>\n",
       "      <td>A</td>\n",
       "      <td>12.0</td>\n",
       "      <td>7.0</td>\n",
       "      <td>2.0</td>\n",
       "      <td>2.0</td>\n",
       "      <td>0.0</td>\n",
       "      <td>3.0</td>\n",
       "      <td>0.0</td>\n",
       "      <td>0.0</td>\n",
       "    </tr>\n",
       "  </tbody>\n",
       "</table>\n",
       "</div>"
      ],
      "text/plain": [
       "     HomeTeam        AwayTeam  FTHG  FTAG FTR    HS    AS  HST  AST   HY   AY  \\\n",
       "0     Arsenal  Crystal Palace   2.0   1.0   H  14.0   4.0  6.0  2.0  2.0  2.0   \n",
       "1   Leicester         Everton   2.0   2.0   D  11.0  13.0  3.0  3.0  1.0  1.0   \n",
       "2  Man United         Swansea   1.0   2.0   A  14.0   5.0  5.0  4.0  2.0  4.0   \n",
       "3         QPR            Hull   0.0   1.0   A  19.0  11.0  6.0  4.0  1.0  2.0   \n",
       "4       Stoke     Aston Villa   0.0   1.0   A  12.0   7.0  2.0  2.0  0.0  3.0   \n",
       "\n",
       "    HR   AR  \n",
       "0  0.0  1.0  \n",
       "1  0.0  0.0  \n",
       "2  0.0  0.0  \n",
       "3  0.0  0.0  \n",
       "4  0.0  0.0  "
      ]
     },
     "execution_count": 14,
     "metadata": {},
     "output_type": "execute_result"
    }
   ],
   "source": [
    "df_total = df_total[['HomeTeam', 'AwayTeam', 'FTHG', 'FTAG', 'FTR', 'HS', 'AS', 'HST', 'AST', 'HY', 'AY', 'HR', 'AR']]\n",
    "df_total.head()"
   ]
  },
  {
   "cell_type": "code",
   "execution_count": 15,
   "metadata": {},
   "outputs": [],
   "source": [
    "def clean_data(df):\n",
    "    data = df[['HomeTeam', 'AwayTeam', 'FTHG', 'FTAG', 'FTR', 'HS', 'AS', 'HST', 'AST']]\n",
    "    data['HSGR'] = data['FTHG']/data['HS']\n",
    "    data['ASGR'] = data['FTAG']/data['AS']\n",
    "    data = data.replace([np.inf, -np.inf], 0)\n",
    "    bet_home = df[['B365H','BWH','IWH','PSH','VCH','WHH']].mean(axis=1)\n",
    "    bet_draw = df[['B365D','BWD','IWD','PSD','VCD','WHD']].mean(axis=1)\n",
    "    bet_away = df[['B365A','BWA','IWA','PSA','VCA','WHA']].mean(axis=1)\n",
    "    \n",
    "    \n",
    "    data['odd_home'] = bet_home\n",
    "    data['odd_draw'] = bet_draw\n",
    "    data['odd_away'] = bet_away\n",
    "    \n",
    "    data.dropna()\n",
    "    \n",
    "    return data"
   ]
  },
  {
   "cell_type": "code",
   "execution_count": 16,
   "metadata": {},
   "outputs": [],
   "source": [
    "data_1415 = clean_data(pd.read_csv('./data/1415.csv'))\n",
    "data_1415.drop(data_1415.tail(1).index,inplace=True)\n",
    "data_1516 = clean_data(pd.read_csv('./data/1516.csv'))\n",
    "data_1617 = clean_data(pd.read_csv('./data/1617.csv'))\n",
    "data_1718 = clean_data(pd.read_csv('./data/1718.csv'))\n",
    "data_1819 = clean_data(pd.read_csv('./data/1819.csv'))\n",
    "# concatenate all data\n",
    "all_data = pd.concat([data_1415, data_1516, data_1617, data_1718, data_1819], axis=0, ignore_index=True)"
   ]
  },
  {
   "cell_type": "markdown",
   "metadata": {},
   "source": [
    "### Data Distribution"
   ]
  },
  {
   "cell_type": "code",
   "execution_count": 17,
   "metadata": {
    "scrolled": true
   },
   "outputs": [],
   "source": [
    "## get distribution of the result\n",
    "def getDistResult(data):\n",
    "    arr = [0,0,0]\n",
    "    for index, row in data.iterrows():\n",
    "        if row.FTR == 'H':\n",
    "            arr[0] += 1\n",
    "        elif row.FTR == 'D':\n",
    "            arr[1] += 1\n",
    "        else:\n",
    "            arr[2] += 1\n",
    "    return arr\n",
    "\n",
    "\n",
    "def average_betting(df):\n",
    "    betting_accuracies = []\n",
    "    for index, row in df.iterrows():\n",
    "        if(row['FTR'] == 'H' and row['odd_home'] < row['odd_away'] and row['odd_home'] < row['odd_draw']):\n",
    "            betting_accuracies.append(1)\n",
    "        elif(row['FTR'] == 'D' and row['odd_draw'] < row['odd_away'] and row['odd_draw'] < row['odd_home']):\n",
    "            betting_accuracies.append(1)\n",
    "        elif(row['FTR'] == 'A' and row['odd_away'] < row['odd_home'] and row['odd_away'] < row['odd_draw']):\n",
    "            betting_accuracies.append(1)\n",
    "        else:\n",
    "            betting_accuracies.append(0)\n",
    "        \n",
    "    return np.mean(betting_accuracies)\n",
    "\n",
    "\n",
    "def accuracy(df):\n",
    "    home = 0\n",
    "    draw = 0\n",
    "    away = 0\n",
    "    for index, row in df.iterrows():\n",
    "        if(row['odd_home'] < row['odd_away'] and row['odd_home'] < row['odd_draw']):\n",
    "            home = home+1\n",
    "        elif(row['odd_draw'] < row['odd_away'] and row['odd_draw'] < row['odd_home']):\n",
    "            draw = draw+1\n",
    "        else:\n",
    "            away = away+1\n",
    "            \n",
    "    return [home/len(df), draw/len(df), away/len(df)]"
   ]
  },
  {
   "cell_type": "markdown",
   "metadata": {},
   "source": []
  },
  {
   "cell_type": "code",
   "execution_count": 18,
   "metadata": {
    "scrolled": true
   },
   "outputs": [
    {
     "data": {
      "image/png": "[encoded data removed]",
      "text/plain": [
       "<Figure size 432x288 with 1 Axes>"
      ]
     },
     "metadata": {
      "needs_background": "light"
     },
     "output_type": "display_data"
    },
    {
     "data": {
      "image/png": "[encoded data removed]",
      "text/plain": [
       "<Figure size 432x288 with 1 Axes>"
      ]
     },
     "metadata": {
      "needs_background": "light"
     },
     "output_type": "display_data"
    },
    {
     "data": {
      "image/png": "[encoded data removed]",
      "text/plain": [
       "<Figure size 432x288 with 1 Axes>"
      ]
     },
     "metadata": {
      "needs_background": "light"
     },
     "output_type": "display_data"
    },
    {
     "data": {
      "image/png": "[encoded data removed]",
      "text/plain": [
       "<Figure size 432x288 with 1 Axes>"
      ]
     },
     "metadata": {
      "needs_background": "light"
     },
     "output_type": "display_data"
    },
    {
     "data": {
      "image/png": "[encoded data removed]",
      "text/plain": [
       "<Figure size 432x288 with 1 Axes>"
      ]
     },
     "metadata": {
      "needs_background": "light"
     },
     "output_type": "display_data"
    }
   ],
   "source": [
    "# by season home or away\n",
    "result = ['Home Wins', 'Draw', 'Away Wins']\n",
    "plt.barh(result, getDistResult(data_1415))\n",
    "plt.xlabel('Frequency')\n",
    "plt.title('14/15 Season Result stats')\n",
    "plt.show()\n",
    "\n",
    "plt.barh(result, getDistResult(data_1516))\n",
    "plt.xlabel('Frequency')\n",
    "plt.title('15/16 Season Result stats')\n",
    "plt.show()\n",
    "\n",
    "plt.barh(result, getDistResult(data_1617))\n",
    "plt.xlabel('Frequency')\n",
    "plt.title('16/17 Season Result stats')\n",
    "plt.show()\n",
    "\n",
    "plt.barh(result, getDistResult(data_1718))\n",
    "plt.xlabel('Frequency')\n",
    "plt.title('17/18 Season Result stats')\n",
    "plt.show()\n",
    "\n",
    "plt.barh(result, getDistResult(data_1819))\n",
    "plt.xlabel('Frequency')\n",
    "plt.title('18/19 Season Result stats')\n",
    "plt.show()\n"
   ]
  },
  {
   "cell_type": "code",
   "execution_count": 19,
   "metadata": {},
   "outputs": [],
   "source": [
    "# \"Arsenal\"\n",
    "# \"Man Utd\"\n",
    "# \"Man city\"\n",
    "# \"Tottenham\"\n",
    "# \"Liverpool\"\n",
    "#  \"Chelsea\"\n"
   ]
  },
  {
   "cell_type": "code",
   "execution_count": 20,
   "metadata": {},
   "outputs": [],
   "source": [
    "time = [average_betting(data_1415),\n",
    "        average_betting(data_1516), \n",
    "        average_betting(data_1617), \n",
    "        average_betting(data_1718), \n",
    "        average_betting(data_1819)]"
   ]
  },
  {
   "cell_type": "markdown",
   "metadata": {},
   "source": [
    "## Discussion\n",
    "#### RQ1:\n",
    "Is there an association between the betting odds and the end results of a game? We may be able to find cases of illegal match fixing such as the scandals that occurred in late 2013 and produce a model that predicts if match fixing is happening."
   ]
  },
  {
   "cell_type": "code",
   "execution_count": 23,
   "metadata": {},
   "outputs": [
    {
     "data": {
      "text/plain": [
       "<matplotlib.axes._subplots.AxesSubplot at 0x1045c0c18>"
      ]
     },
     "execution_count": 23,
     "metadata": {},
     "output_type": "execute_result"
    },
    {
     "data": {
      "image/png": "[encoded data removed]",
      "text/plain": [
       "<Figure size 432x288 with 1 Axes>"
      ]
     },
     "metadata": {
      "needs_background": "light"
     },
     "output_type": "display_data"
    }
   ],
   "source": [
    "data_1415.corr()\n",
    "data_1415.plot(\"odd_home\", \"HS\", kind=\"scatter\")"
   ]
  },
  {
   "cell_type": "markdown",
   "metadata": {},
   "source": [
    "#### RQ2: \n",
    "Is there an association between the betting odds and statistics of a game? Studying this may also result in finding cases of illegal match fixing. For example, we can see if certain teams are under-performing in some games where bets are higher."
   ]
  },
  {
   "cell_type": "code",
   "execution_count": null,
   "metadata": {},
   "outputs": [],
   "source": []
  },
  {
   "cell_type": "markdown",
   "metadata": {},
   "source": [
    "#### RQ3:\n",
    "Is there an association between the game stats and the end results of a game? With this, we will be able to predict what factors are associated with winning the game. Coaches can use this information to their advantage and train their players against those conditions."
   ]
  },
  {
   "cell_type": "code",
   "execution_count": null,
   "metadata": {},
   "outputs": [],
   "source": []
  }
 ],
 "metadata": {
  "kernelspec": {
   "display_name": "Python 3",
   "language": "python",
   "name": "python3"
  },
  "language_info": {
   "codemirror_mode": {
    "name": "ipython",
    "version": 3
   },
   "file_extension": ".py",
   "mimetype": "text/x-python",
   "name": "python",
   "nbconvert_exporter": "python",
   "pygments_lexer": "ipython3",
   "version": "3.7.1"
  }
 },
 "nbformat": 4,
 "nbformat_minor": 2
}
